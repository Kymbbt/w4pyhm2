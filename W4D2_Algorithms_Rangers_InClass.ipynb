{
 "cells": [
  {
   "cell_type": "markdown",
   "metadata": {},
   "source": [
    "# Algorithms and Time Complexity"
   ]
  },
  {
   "cell_type": "markdown",
   "metadata": {},
   "source": [
    "## Tasks Today:\n",
    " \n",
    "1) <b>In-Place Algorithms</b> <br>\n",
    " &nbsp;&nbsp;&nbsp;&nbsp; a) Syntax <br>\n",
    " &nbsp;&nbsp;&nbsp;&nbsp; a) Out of Place Algorithm <br>\n",
    " &nbsp;&nbsp;&nbsp;&nbsp; b) In-Class Exercise #1 <br>\n",
    "2) <b>Two Pointers</b> <br>\n",
    "3) <b>Merge Sort</b> <br>\n",
    " &nbsp;&nbsp;&nbsp;&nbsp; a) Video on Algorithms <br>\n",
    " &nbsp;&nbsp;&nbsp;&nbsp; b) How it Works <br>\n",
    "4) <b>Binary Search</b> <br>\n",
    "5) <b>Exercises</b> <br>\n",
    " &nbsp;&nbsp;&nbsp;&nbsp; a) Exercise #1 - Reverse a List in Place Using an In-Place Algorithm <br>\n",
    " &nbsp;&nbsp;&nbsp;&nbsp; b) Exercise #2 - Find Distinct Words <br>\n",
    " &nbsp;&nbsp;&nbsp;&nbsp; c) Exercise #3 - Write a program to implement a Linear Search Algorithm. <br>"
   ]
  },
  {
   "cell_type": "markdown",
   "metadata": {},
   "source": [
    "## In-Place Algorithms"
   ]
  },
  {
   "cell_type": "markdown",
   "metadata": {},
   "source": [
    "#### Syntax"
   ]
  },
  {
   "cell_type": "code",
   "execution_count": 1,
   "metadata": {},
   "outputs": [
    {
     "name": "stdout",
     "output_type": "stream",
     "text": [
      "Before swap: [20, 4, 10]\n",
      "After Swap: [10, 20, 4]\n"
     ]
    }
   ],
   "source": [
    "#swap locations by index in a list\n",
    "#sometimes known as a swap algorithm\n",
    "# arr[i], arr[i+1] = arr[i+1], arr[I]\n",
    "\n",
    "#         kist  index1 index 2 index3\n",
    "def swap(alist, x,y, z):\n",
    "    alist[x], alist[z], alist[y] = alist[z], alist[y], alist[x]\n",
    "    return alist\n",
    "\n",
    "my_list = [20, 4, 10]\n",
    "\n",
    "print(f\"Before swap: {my_list}\")\n",
    "swap(my_list, 0, 1 ,2)\n",
    "print(f\"After Swap: {my_list}\")\n",
    "\n"
   ]
  },
  {
   "cell_type": "code",
   "execution_count": 4,
   "metadata": {},
   "outputs": [],
   "source": [
    "def swap(alist, x, y):\n",
    "    alist[x], alist[y] = alist[y], alist[x]\n",
    "    return alist\n",
    "my_list = [4,3,6,5]\n"
   ]
  },
  {
   "cell_type": "markdown",
   "metadata": {},
   "source": [
    "#### Out of Place Algorithm"
   ]
  },
  {
   "cell_type": "code",
   "execution_count": 3,
   "metadata": {},
   "outputs": [
    {
     "name": "stdout",
     "output_type": "stream",
     "text": [
      "[10, 4, 20]\n",
      "['a', 'a', 'a', 'a']\n",
      "Before:['a', 'b', 'c', 'd']\n",
      "After:['d', 'c', 'b', 'a']\n"
     ]
    }
   ],
   "source": [
    "# not swapping, reversing the list\n",
    "# But also copies to another place in memory\n",
    "\n",
    "my_list = [20,4,10]\n",
    "\n",
    "my_list_copy = list(reversed(my_list))\n",
    "\n",
    "print(my_list_copy)\n",
    "\n",
    "my_list_copy = my_list[::-1]\n",
    "\n",
    "array = [\"a\", \"b\", \"c\", \"d\"]\n",
    "\n",
    "new_array = ['a'] * len(array)\n",
    "\n",
    "print(new_array)\n",
    "print(f\"Before:{array}\")\n",
    "length = len(array) - 1\n",
    "\n",
    "for i in range(length):\n",
    "    new_array[i] = array[length-i]\n",
    "array = new_array\n",
    "\n",
    "print(f\"After:{array}\")\n",
    "    \n"
   ]
  },
  {
   "cell_type": "markdown",
   "metadata": {},
   "source": [
    "#### In-Class Exercise #1 <br>\n",
    "<p>Write a function that takes in four arguments (list, index1, index2, index3), and swaps those three positions in the list passed in.</p>"
   ]
  },
  {
   "cell_type": "code",
   "execution_count": 5,
   "metadata": {},
   "outputs": [
    {
     "name": "stdout",
     "output_type": "stream",
     "text": [
      "Before ['pirate', 'bunny', 'ninja']\n",
      "After: ['bunny', 'ninja', 'pirate']\n"
     ]
    }
   ],
   "source": [
    "def swap(blist, Ben, Kym, Miguel):\n",
    "    blist[Ben], blist[Kym], blist[Miguel] = blist[Kym], blist[Miguel], blist[Ben]\n",
    "    return blist\n",
    "\n",
    "clist = [\"pirate\", \"bunny\", \"ninja\"]\n",
    "\n",
    "print(f'Before {clist}')\n",
    "swap(clist, 0, 1, 2)\n",
    "print(f'After: {clist}')"
   ]
  },
  {
   "cell_type": "code",
   "execution_count": 6,
   "metadata": {},
   "outputs": [
    {
     "name": "stdout",
     "output_type": "stream",
     "text": [
      "Before swap: [5, 10, 15]\n",
      "After swap: [15, 10, 5]\n"
     ]
    }
   ],
   "source": [
    "def swap(alist, a, b, c):\n",
    "    alist[a], alist[b], alist[c] = alist[c], alist[b], alist[a]\n",
    "    return alist\n",
    "my_list = [5, 10, 15]\n",
    "\n",
    "print(f\"Before swap: {my_list}\")\n",
    "swap(my_list, 0, 1, 2)\n",
    "print(f\"After swap: {my_list}\")"
   ]
  },
  {
   "cell_type": "code",
   "execution_count": 12,
   "metadata": {},
   "outputs": [
    {
     "name": "stdout",
     "output_type": "stream",
     "text": [
      "Before swap: [2, 3, 4]\n",
      "After sway: [3, 4, 2]\n"
     ]
    }
   ],
   "source": [
    "def swap(my_list, index1, index2, index3):\n",
    "        my_list[index1], my_list[index2], my_list[index3] =  my_list[index2],my_list[index3], my_list[index1] \n",
    "        return list\n",
    "my_list = [2, 3, 4]\n",
    "\n",
    "print(f\"Before swap: {my_list}\")\n",
    "swap(my_list, 0, 1, 2)\n",
    "print(f\"After sway: {my_list}\")"
   ]
  },
  {
   "cell_type": "code",
   "execution_count": 10,
   "metadata": {},
   "outputs": [],
   "source": [
    "def swap(a_list,x,y,z,a):\n",
    "    a_list[x], a_list[z], a_list[y],a_list[a] = a_list[a], a_list[z], a_list[y], a_list[x]\n",
    "    return a_list"
   ]
  },
  {
   "cell_type": "code",
   "execution_count": 11,
   "metadata": {},
   "outputs": [
    {
     "name": "stdout",
     "output_type": "stream",
     "text": [
      "Before swap: [480, 560, 238]\n",
      "After swap: [238, 560, 480]\n"
     ]
    }
   ],
   "source": [
    "def swap(xlist, a, b, c):\n",
    "    xlist[a], xlist[b], xlist[c] = xlist[c], xlist[b], xlist[a]\n",
    "    return xlist\n",
    "listop = [480, 560, 238]\n",
    "\n",
    "print(f\"Before swap: {listop}\")\n",
    "swap(listop, 0, 1, 2)\n",
    "print(f\"After swap: {listop}\")"
   ]
  },
  {
   "cell_type": "code",
   "execution_count": null,
   "metadata": {},
   "outputs": [],
   "source": []
  },
  {
   "cell_type": "markdown",
   "metadata": {},
   "source": [
    "## Two Pointers"
   ]
  },
  {
   "cell_type": "markdown",
   "metadata": {},
   "source": [
    "#### Syntax"
   ]
  },
  {
   "cell_type": "code",
   "execution_count": 13,
   "metadata": {},
   "outputs": [
    {
     "name": "stdout",
     "output_type": "stream",
     "text": [
      "Before pointer reverse: [1, 2, 3, 4, 8, 9, 11, 12, 22]\n",
      "After pointer reverse: [22, 12, 11, 9, 8, 4, 3, 2, 1]\n"
     ]
    }
   ],
   "source": [
    "# alist[left], alist[right] = alist[right], alist[left]\n",
    "# use two pointesr to swap, can use a while loop in most cases\n",
    "# the list must be sorted\n",
    "#using pointers to reverse a list while swapping\n",
    "\n",
    "def two_pointers(alist):\n",
    "#    alist.sort() if you need to sort a list it will increase the time complexity a little bit \n",
    "#     create our pointers\n",
    "    left = 0\n",
    "    right = len(alist) - 1\n",
    "    \n",
    "    while left <= right:\n",
    "        alist[left], alist[right] = alist[right], alist[left]\n",
    "        left += 1\n",
    "        right -=1\n",
    "    return alist\n",
    "\n",
    "my_list = [1, 2, 3, 4, 8, 9, 11, 12, 22]\n",
    "\n",
    "print(f\"Before pointer reverse: {my_list}\")\n",
    "two_pointers(my_list)\n",
    "print(f\"After pointer reverse: {my_list}\")\n",
    "\n"
   ]
  },
  {
   "cell_type": "markdown",
   "metadata": {},
   "source": [
    "#### Video of Algorithms <br>\n",
    "<p>Watch the video about algorithms.</p>\n",
    "\n",
    "https://www.youtube.com/watch?v=Q9HjeFD62Uk\n",
    "\n",
    "https://www.youtube.com/watch?v=kPRA0W1kECg\n",
    "\n",
    "https://www.youtube.com/watch?v=ZZuD6iUe3Pc"
   ]
  },
  {
   "cell_type": "markdown",
   "metadata": {},
   "source": [
    "# Sorting Algorithms"
   ]
  },
  {
   "cell_type": "code",
   "execution_count": null,
   "metadata": {},
   "outputs": [],
   "source": [
    "# Time complexity\n",
    "# how many actions have to happen per itms it akes as inputs\n"
   ]
  },
  {
   "cell_type": "markdown",
   "metadata": {},
   "source": [
    "#### Bubble Sort\n",
    "\n",
    "Worst Case: O(n^2) Time - O(1) Space"
   ]
  },
  {
   "cell_type": "code",
   "execution_count": 14,
   "metadata": {},
   "outputs": [
    {
     "data": {
      "text/plain": [
       "[1, 22, 34, 44, 55, 66, 88, 100]"
      ]
     },
     "execution_count": 14,
     "metadata": {},
     "output_type": "execute_result"
    }
   ],
   "source": [
    "# Best Case Linear\n",
    "# Worst Case Quadratic\n",
    "my_array = [100, 88, 22, 55, 44, 1, 34, 66]\n",
    "\n",
    "def swap(i, j, array):\n",
    "    array[i], array[j] = array[j], array[i]\n",
    "\n",
    "def bubble_sort(array):\n",
    "    is_sorted = False\n",
    "    while not is_sorted:\n",
    "        is_sorted = True\n",
    "        for i in range(len(array) -1):\n",
    "            if array[i] > array[i + 1]:\n",
    "                swap(i, i + 1, array)\n",
    "                is_sorted = False\n",
    "    return array\n",
    "my_array = [100, 88, 22, 55, 44, 1, 34, 66] \n",
    "bubble_sort(my_array)\n",
    "\n",
    "\n",
    "\n",
    "\n"
   ]
  },
  {
   "cell_type": "markdown",
   "metadata": {},
   "source": [
    "##### Insertion Sort\n",
    "\n",
    "Worst Case: O(n^2) time - O(1)space"
   ]
  },
  {
   "cell_type": "code",
   "execution_count": null,
   "metadata": {},
   "outputs": [],
   "source": [
    "\n",
    "            \n",
    "            "
   ]
  },
  {
   "cell_type": "markdown",
   "metadata": {},
   "source": [
    "## Merge Sort"
   ]
  },
  {
   "cell_type": "markdown",
   "metadata": {},
   "source": [
    "#### How it Works"
   ]
  },
  {
   "cell_type": "code",
   "execution_count": null,
   "metadata": {},
   "outputs": [],
   "source": [
    "# Step 1: Split Everything into its own group\n",
    "# Step 2: From left to right merge two groups together\n",
    "# STep 3: While merging, place each item in its correct position within the merged group\n",
    "# Step 4: Repeat step 3 until one group is left\n",
    "\n",
    "        "
   ]
  },
  {
   "cell_type": "markdown",
   "metadata": {},
   "source": [
    "# Binary Search\n",
    "\n",
    "The Binary Search algorithm works by finding the number in the middle of a given array and comparing it to the target. Given that the array is sorted\n",
    "\n",
    "* The worst case run time for this algorithm is `O(log(n))`"
   ]
  },
  {
   "cell_type": "code",
   "execution_count": null,
   "metadata": {},
   "outputs": [],
   "source": [
    "# Less goes to the left\n",
    "# Greater goes to the right\n",
    "# List of numbers must be sorted\n",
    "def binary_search(array, target, left, right):\n",
    "    while left <= right:\n",
    "        middle = (left + right) // 2\n",
    "        potential_match = array[middle]\n",
    "        if target == potential_match:\n",
    "            return f\"The index is....{middle}\"\n",
    "        elif target < potential_match:\n",
    "            right = middle - 1\n",
    "        else:\n",
    "            left = middle + 1\n",
    "    return -1\n",
    "\n",
    "def binary_helper(array, target):\n",
    "    return binary_search(array, target, 0, len(array) -1)\n",
    "\n",
    "binary_helper([1, 22, 34, 44, 55, 66, 88, 100], 22)"
   ]
  },
  {
   "cell_type": "markdown",
   "metadata": {},
   "source": [
    "# Exercises"
   ]
  },
  {
   "cell_type": "markdown",
   "metadata": {},
   "source": [
    "### Exercise #1 <br>\n",
    "<p>Reverse the list below in-place using an in-place algorithm.<br>For extra credit: Reverse the strings at the same time.</p>"
   ]
  },
  {
   "cell_type": "code",
   "execution_count": 2,
   "metadata": {},
   "outputs": [
    {
     "name": "stdout",
     "output_type": "stream",
     "text": [
      "Before pointer reverse: ['this', 'is', 'a', 'sentence', '.']\n",
      "After pointer reverse: ['.', 'sentence', 'a', 'is', 'this']\n"
     ]
    }
   ],
   "source": [
    "words = ['this' , 'is', 'a', 'sentence', '.']\n",
    "\n",
    "def two_pointers(alist):\n",
    "    left = 0\n",
    "    right = len(alist) - 1\n",
    "    \n",
    "    while left <= right:\n",
    "        alist[left], alist[right] = alist[right], alist[left]\n",
    "        left += 1\n",
    "        right -=1\n",
    "    return alist\n",
    "\n",
    "my_list = ['this' , 'is', 'a', 'sentence', '.']\n",
    "\n",
    "print(f\"Before pointer reverse: {my_list}\")\n",
    "two_pointers(my_list)\n",
    "print(f\"After pointer reverse: {my_list}\")\n"
   ]
  },
  {
   "cell_type": "markdown",
   "metadata": {},
   "source": [
    "### Exercise #2 <br>\n",
    "<p>Create a function that counts how many distinct words are in the string below, then outputs a dictionary with the words as the key and the value as the amount of times that word appears in the string.<br>Should output:<br>{'a': 5,<br>\n",
    " 'abstract': 1,<br>\n",
    " 'an': 3,<br>\n",
    " 'array': 2, ... etc...</p>"
   ]
  },
  {
   "cell_type": "code",
   "execution_count": 3,
   "metadata": {},
   "outputs": [
    {
     "name": "stdout",
     "output_type": "stream",
     "text": [
      "{'I': 1, 'n': 13, ' ': 52, 'c': 12, 'o': 12, 'm': 7, 'p': 6, 'u': 12, 't': 24, 'i': 11, 'g': 1, ',': 2, 'a': 32, 'h': 14, 's': 19, 'b': 5, 'l': 6, 'e': 19, 'd': 6, 'r': 12, 'w': 2, 'v': 3, 'y': 4, 'k': 2, '.': 1, 'A': 1, 'f': 4, 'x': 1}\n"
     ]
    }
   ],
   "source": [
    "a_text = 'In computing, a hash table hash map is a data structure which implements an associative array abstract data type, a structure that can map keys to values. A hash table uses a hash function to compute an index into an array of buckets or slots from which the desired value can be found'\n",
    "def word_count(str):\n",
    "    counts = dict()\n",
    "    words = str.split()\n",
    "\n",
    "    for word in a_text:\n",
    "        if word in counts:\n",
    "            counts[word] += 1\n",
    "        else:\n",
    "            counts[word] = 1\n",
    "\n",
    "    return counts\n",
    "\n",
    "print( word_count('the quick brown fox jumps over the lazy dog.'))"
   ]
  },
  {
   "cell_type": "markdown",
   "metadata": {},
   "source": [
    "## Exercise #3\n",
    "\n",
    "<p>Use binary search to return the index of the target num</p>\n",
    "\n"
   ]
  },
  {
   "cell_type": "code",
   "execution_count": 8,
   "metadata": {},
   "outputs": [
    {
     "ename": "NameError",
     "evalue": "name 'x' is not defined",
     "output_type": "error",
     "traceback": [
      "\u001b[0;31m---------------------------------------------------------------------------\u001b[0m",
      "\u001b[0;31mNameError\u001b[0m                                 Traceback (most recent call last)",
      "Cell \u001b[0;32mIn[8], line 32\u001b[0m\n\u001b[1;32m     28\u001b[0m target \u001b[38;5;241m=\u001b[39m \u001b[38;5;241m123\u001b[39m\n\u001b[1;32m     31\u001b[0m \u001b[38;5;66;03m# Function call\u001b[39;00m\n\u001b[0;32m---> 32\u001b[0m result \u001b[38;5;241m=\u001b[39m binary_search(cool_list, \u001b[38;5;241m0\u001b[39m, \u001b[38;5;28mlen\u001b[39m(cool_list)\u001b[38;5;241m-\u001b[39m\u001b[38;5;241m1\u001b[39m, \u001b[43mx\u001b[49m)\n\u001b[1;32m     34\u001b[0m \u001b[38;5;28;01mif\u001b[39;00m result \u001b[38;5;241m!=\u001b[39m \u001b[38;5;241m-\u001b[39m\u001b[38;5;241m1\u001b[39m:\n\u001b[1;32m     35\u001b[0m     \u001b[38;5;28mprint\u001b[39m(\u001b[38;5;124m\"\u001b[39m\u001b[38;5;124mElement is present at index\u001b[39m\u001b[38;5;124m\"\u001b[39m, \u001b[38;5;28mstr\u001b[39m(result))\n",
      "\u001b[0;31mNameError\u001b[0m: name 'x' is not defined"
     ]
    }
   ],
   "source": [
    "cool_list = [2, 5, 6, 12, 45, 47, 98, 123, 1000]\n",
    "target = 123\n",
    "\n",
    "def binary_search(cool_list, low, high, target):\n",
    " \n",
    "\n",
    "    if high >= low:\n",
    " \n",
    "        mid = (high + low) // 2\n",
    "\n",
    "        if cool_list[mid] == target:\n",
    "            return mid\n",
    " \n",
    "        \n",
    "        elif cool_list[mid] > x:\n",
    "            return binary_search(arr, low, mid - 1, x)\n",
    " \n",
    "  \n",
    "        else:\n",
    "            return binary_search(arr, mid + 1, high, x)\n",
    " \n",
    "    else:\n",
    "    \n",
    "        return -1\n",
    " \n",
    "\n",
    "cool_list = [2, 5, 6, 12, 45, 47, 98, 123, 1000]\n",
    "target = 123\n",
    "\n",
    " \n",
    "# Function call\n",
    "result = binary_search(cool_list, 0, len(cool_list)-1, x)\n",
    " \n",
    "if result != -1:\n",
    "    print(\"Element is present at index\", str(result))\n",
    "else:\n",
    "    print(\"Element is not present in array\")"
   ]
  },
  {
   "cell_type": "code",
   "execution_count": null,
   "metadata": {},
   "outputs": [],
   "source": []
  },
  {
   "cell_type": "code",
   "execution_count": null,
   "metadata": {},
   "outputs": [],
   "source": []
  }
 ],
 "metadata": {
  "kernelspec": {
   "display_name": "Python 3 (ipykernel)",
   "language": "python",
   "name": "python3"
  },
  "language_info": {
   "codemirror_mode": {
    "name": "ipython",
    "version": 3
   },
   "file_extension": ".py",
   "mimetype": "text/x-python",
   "name": "python",
   "nbconvert_exporter": "python",
   "pygments_lexer": "ipython3",
   "version": "3.11.5"
  }
 },
 "nbformat": 4,
 "nbformat_minor": 4
}
